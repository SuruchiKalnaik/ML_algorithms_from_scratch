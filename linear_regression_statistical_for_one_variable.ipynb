{
 "cells": [
  {
   "cell_type": "code",
   "execution_count": 1,
   "metadata": {},
   "outputs": [
    {
     "name": "stdout",
     "output_type": "stream",
     "text": [
      "[312.99076412] [0.26633685]\n",
      "[0.58127405]\n",
      "[array([1511.50658737])]\n"
     ]
    },
    {
     "data": {
      "image/png": "[encoded data removed]",
      "text/plain": [
       "<Figure size 432x288 with 1 Axes>"
      ]
     },
     "metadata": {
      "needs_background": "light"
     },
     "output_type": "display_data"
    }
   ],
   "source": [
    "from math import sqrt\n",
    "import matplotlib.pyplot as plt\n",
    "from random import randrange\n",
    "\n",
    "class Linear_Regression():\n",
    "    \n",
    "    def __init__(self):\n",
    "\n",
    "        self.X_train = []\n",
    "        self.y_train = []\n",
    "        self.X_test = []\n",
    "        self.y_test = []\n",
    "        self.b0 = 0.0\n",
    "        self.b1 = 0.0\n",
    "        \n",
    "    # Evaluate an algorithm using a train/test split\n",
    "    def train_test_split(self,X, y, split):\n",
    "        X_train = list()\n",
    "        y_train = list()\n",
    "        train_size = split * len(X)\n",
    "        X_test = list(X)\n",
    "        y_test = list(y)\n",
    "        while len(X_train) < train_size:\n",
    "            index = randrange(len(X_test))\n",
    "            X_train.append(X_test.pop(index))\n",
    "            y_train.append(y_test.pop(index))\n",
    "        return X_train,X_test,y_train,y_test\n",
    "    \n",
    "    \n",
    "    # Calculate r2 error\n",
    "    def score(self,X,y):\n",
    "        self.X_test = X\n",
    "        self.y_test = y\n",
    "        sum_error = 0.0\n",
    "        sum_square_error = 0.0\n",
    "        mean_value = np.mean(self.y_test)\n",
    "        predicted = self.predict(self.X_test)\n",
    "        for i in range(len(self.y_test)):\n",
    "            prediction_error = predicted[i] - self.y_test[i]\n",
    "            sum_error = sum_error + ((self.y_test[i] - mean_value)**2)\n",
    "            sum_square_error = sum_square_error + (prediction_error ** 2)\n",
    "        r2 = 1 - (sum_square_error/sum_error)\n",
    "        return r2\n",
    "        \n",
    "    # Simple linear regression algorithm\n",
    "    def fit(self,X,y):\n",
    "        \n",
    "        self.X_train = X\n",
    "        self.y_train = y\n",
    "        \n",
    "        b0, b1 = self.coefficients()\n",
    "        print(b0,b1)\n",
    "        self.b0 = b0\n",
    "        self.b1 = b1\n",
    "        self.linear_plot()\n",
    "        \n",
    "    # Calculate the mean value of a list of numbers\n",
    "    def mean(self,values):\n",
    "        return sum(values) / float(len(values))\n",
    " \n",
    "    # Calculate covariance between x and y\n",
    "    def covariance(self,mean_x, mean_y):\n",
    "        covar = 0.0\n",
    "        for i in range(len(self.X_train)):\n",
    "            covar = covar + ((self.X_train[i] - mean_x) * (self.y_train[i] - mean_y))\n",
    "        return covar\n",
    " \n",
    "    # Calculate the variance of a list of numbers\n",
    "    def variance(self, mean):\n",
    "        return sum([(x-mean)**2 for x in self.X_train])\n",
    " \n",
    "    # Calculate coefficients\n",
    "    def coefficients(self):\n",
    "\n",
    "        x_mean, y_mean = self.mean(self.X_train), self.mean(self.y_train)\n",
    "        b1 = self.covariance(x_mean, y_mean) / self.variance(x_mean)\n",
    "        b0 = y_mean - b1 * x_mean\n",
    "        return [b0, b1]\n",
    " \n",
    "    # Prediction of some values\n",
    "    def predict(self,X):\n",
    "        predictions = list()\n",
    "        for row in X:\n",
    "            predict_y = self.b0 + self.b1 * row\n",
    "            predictions.append(predict_y)\n",
    "        return predictions\n",
    "    \n",
    "    # Plotting graph\n",
    "    def linear_plot(self):\n",
    "        plt.scatter(self.X_train,self.y_train)\n",
    "        plt.plot(self.X_train,self.predict(self.X_train),c=\"black\")\n",
    "\n",
    "if __name__ == \"__main__\":\n",
    "    \n",
    "    import numpy as np\n",
    "    import pandas as pd\n",
    "    data = pd.read_csv(\"headbrain.csv\")\n",
    "    data = data.drop([\"Gender\",\"Age Range\"],axis = 1)\n",
    "    x,y = np.array(data[\"Head Size(cm^3)\"]),np.array(data[\"Brain Weight(grams)\"])\n",
    "    x = x.reshape(-1,1)\n",
    "    \n",
    "    model = Linear_Regression()\n",
    "    X_train,X_test,y_train,y_test  = model.train_test_split(x, y, .8)\n",
    "    model.fit(X_train,y_train)\n",
    "    print(model.score(X_test,y_test)) \n",
    "    print(model.predict([4500]))"
   ]
  },
  {
   "cell_type": "code",
   "execution_count": null,
   "metadata": {},
   "outputs": [],
   "source": []
  },
  {
   "cell_type": "code",
   "execution_count": null,
   "metadata": {},
   "outputs": [],
   "source": []
  }
 ],
 "metadata": {
  "kernelspec": {
   "display_name": "Python 3",
   "language": "python",
   "name": "python3"
  },
  "language_info": {
   "codemirror_mode": {
    "name": "ipython",
    "version": 3
   },
   "file_extension": ".py",
   "mimetype": "text/x-python",
   "name": "python",
   "nbconvert_exporter": "python",
   "pygments_lexer": "ipython3",
   "version": "3.7.6"
  }
 },
 "nbformat": 4,
 "nbformat_minor": 4
}
